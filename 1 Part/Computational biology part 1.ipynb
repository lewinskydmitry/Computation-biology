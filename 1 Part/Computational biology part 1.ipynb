{
  "cells": [
    {
      "cell_type": "markdown",
      "metadata": {
        "id": "beg8NurGHusn"
      },
      "source": [
        "# Load libraries"
      ]
    },
    {
      "cell_type": "code",
      "execution_count": null,
      "metadata": {
        "id": "MA5gkCBrkTpp"
      },
      "outputs": [],
      "source": [
        "!pip install Biopython\n",
        "!pip install gdown\n",
        "!pip install pydna"
      ]
    },
    {
      "cell_type": "code",
      "execution_count": null,
      "metadata": {
        "id": "dixMtNwT35UB"
      },
      "outputs": [],
      "source": [
        "from google.colab import drive\n",
        "drive.mount('/content/gdrive')"
      ]
    },
    {
      "cell_type": "code",
      "execution_count": null,
      "metadata": {
        "id": "yEeZiGC6kY_D"
      },
      "outputs": [],
      "source": [
        "from Bio import SeqIO\n",
        "import numpy as np\n",
        "import matplotlib.pyplot as plt\n",
        "import json\n",
        "import gdown\n",
        "import gc\n",
        "from pydna.assembly import Assembly\n",
        "from pydna.dseqrecord import Dseqrecord\n",
        "from pydna.design import primer_design, assembly_fragments\n",
        "%matplotlib inline"
      ]
    },
    {
      "cell_type": "markdown",
      "metadata": {
        "id": "tNB_NNzKIS3H"
      },
      "source": [
        "## Load DNK sequences"
      ]
    },
    {
      "cell_type": "markdown",
      "source": [
        "This part for loading data from google drive"
      ],
      "metadata": {
        "id": "jqirdRkr0Wb8"
      }
    },
    {
      "cell_type": "code",
      "source": [
        "url = 'https://drive.google.com/uc?id=1P-dkZg7Uy0NPdzUwY-a-qpTsNfw4FURX'\n",
        "output = 'salmonella-enterica.reads.fna'\n",
        "gdown.download(url, output, quiet=False)\n",
        "\n",
        "url = 'https://drive.google.com/uc?id=1Or3tTlBb98A8u84XaCEpZPiK-IOYjzgh'\n",
        "output = 'salmonella-enterica-variant.reads.fna'\n",
        "gdown.download(url, output, quiet=False)"
      ],
      "metadata": {
        "id": "TVvk9WM2x7EW"
      },
      "execution_count": null,
      "outputs": []
    },
    {
      "cell_type": "markdown",
      "metadata": {
        "id": "D2cGjtXE8J8z"
      },
      "source": [
        "## Create new k-mers"
      ]
    },
    {
      "cell_type": "code",
      "source": [
        "def build_kmers(sequence, dict_kmers, ksize):\n",
        "    \"\"\"\n",
        "    Build k-mers from sequence\n",
        "    \"\"\"\n",
        "    n_kmers = len(sequence) - ksize + 1\n",
        "    for i in range(n_kmers):\n",
        "        kmer = sequence[i:i + ksize]\n",
        "        if kmer not in dict_kmers:\n",
        "            dict_kmers[kmer] = 0\n",
        "        dict_kmers[kmer] += 1\n",
        "    return"
      ],
      "metadata": {
        "id": "JRY3xHwK0i-G"
      },
      "execution_count": null,
      "outputs": []
    },
    {
      "cell_type": "markdown",
      "source": [
        "First of all we choose k (hyper-parameter) as number as give us distribution (distribution of values of dictionary of k mers) that looks like Poisson distribution. And then create dicts with kmers"
      ],
      "metadata": {
        "id": "bXe7kJ9hzaLK"
      }
    },
    {
      "cell_type": "code",
      "execution_count": null,
      "metadata": {
        "id": "tLtmol0vlkVK",
        "collapsed": true
      },
      "outputs": [],
      "source": [
        "input_file = \"./salmonella-enterica.reads.fna\"\n",
        "input_file_var = \"./salmonella-enterica-variant.reads.fna\"\n",
        "\n",
        "\n",
        "for KSIZE in [23]:\n",
        "\n",
        "  fasta_sequences = SeqIO.parse(open(input_file), 'fasta')\n",
        "  dict_kmers = dict()\n",
        "  for fasta in fasta_sequences:\n",
        "    sequence = str(fasta.seq)\n",
        "    build_kmers(sequence, dict_kmers, KSIZE)\n",
        "  json.dump(dict_kmers, open(f\"/content/gdrive/MyDrive/Bioinformatics/dict_kmers_{KSIZE}.txt\",'w'))\n",
        "  del dict_kmers\n",
        "\n",
        "  fasta_sequences_var = SeqIO.parse(open(input_file_var), 'fasta')\n",
        "  dict_kmers_variant = dict()\n",
        "  for fasta in fasta_sequences_var:\n",
        "    sequence = str(fasta.seq)\n",
        "    build_kmers(sequence, dict_kmers_variant, KSIZE)\n",
        "  json.dump(dict_kmers_variant, open(f\"/content/gdrive/MyDrive/Bioinformatics/dict_kmers_var_{KSIZE}.txt\",'w'))\n",
        "  del dict_kmers_variant\n",
        "\n",
        "  gc.collect()"
      ]
    },
    {
      "cell_type": "markdown",
      "metadata": {
        "id": "DZdrMMtV8q-O"
      },
      "source": [
        "## Load and printing existing k-mers"
      ]
    },
    {
      "cell_type": "markdown",
      "source": [
        "Let's print our values of k_mers dictionary.\n",
        "\n",
        "As we can see (first row of the plot) we have a lot of unique k-mers with amount 1-2. It means that it's a mistake of reading sequence. The mistakes distributed randomly and can't have a lot of amount of such combination unlike mutation. \\\\\n",
        "Second row demonstrates us the distribution of k-mers which can be mutations."
      ],
      "metadata": {
        "id": "IMvf9GiS1mUS"
      }
    },
    {
      "cell_type": "code",
      "execution_count": null,
      "metadata": {
        "id": "lmaaY7eZXeuE"
      },
      "outputs": [],
      "source": [
        "url = 'https://drive.google.com/uc?id=1VKZ_zQZh9NGlKxvQukRhTZ0iIlbEveO2'\n",
        "output = 'dict_kmers_25.txt'\n",
        "gdown.download(url, output, quiet=False)\n",
        "\n",
        "url = 'https://drive.google.com/uc?id=1-0CugTOi0lxJtNPbswyS30L5hFrxZ70a'\n",
        "output = 'dict_kmers_var_25.txt'\n",
        "gdown.download(url, output, quiet=False)"
      ]
    },
    {
      "cell_type": "code",
      "source": [
        "kmers_dict = json.load(open(f\"./dict_kmers_23.txt\"))\n",
        "kmers_dict_var = json.load(open(f\"./dict_kmers_var_23.txt\"))"
      ],
      "metadata": {
        "id": "Lr3W1KqPdzlD"
      },
      "execution_count": null,
      "outputs": []
    },
    {
      "cell_type": "code",
      "source": [
        "f, axarr = plt.subplots(2, 3, figsize=(10, 10))\n",
        "kmers_arr = np.array(list(kmers_dict.values()))\n",
        "kmers_arr_var = np.array(list(kmers_dict_var.values()))\n",
        "for enum in range(2):\n",
        "\n",
        "  if enum == 0:\n",
        "    axarr[enum,0].hist(kmers_arr,range = (0,80),bins = 80, label='The original',\n",
        "                    color = 'blue')\n",
        "    axarr[enum,0].set_title(f' Original (k = 21)')\n",
        "\n",
        "    axarr[enum,1].hist(kmers_arr_var,range = (0,80),bins = 80, label='The variant',\n",
        "                    color = 'red')\n",
        "    axarr[enum,1].set_title(f' Variant (k = 21)')\n",
        "\n",
        "    axarr[enum,2].hist(kmers_arr,range = (0,80),bins = 80, label='The original',\n",
        "                    color = 'blue', alpha = 0.5)\n",
        "    axarr[enum,2].hist(kmers_arr_var,range = (0,80),bins = 80, label='The variant',\n",
        "                    color = 'red', alpha = 0.5)\n",
        "    axarr[enum,2].set_title(f' Original + var simultaneously (k = 21)')\n",
        "    \n",
        "\n",
        "  else:\n",
        "    axarr[enum,0].hist(kmers_arr,range = (20,80),bins = 80, label='The original',\n",
        "                    color = 'blue')\n",
        "    axarr[enum,0].set_title(f' Original (k = 21)')\n",
        "\n",
        "    axarr[enum,1].hist(kmers_arr_var,range = (20,80),bins = 80, label='The variant',\n",
        "                    color = 'red')\n",
        "    axarr[enum,1].set_title(f' Variant (k = 21)')\n",
        "\n",
        "    axarr[enum,2].hist(kmers_arr,range = (20,80),bins = 80, label='The original',\n",
        "                    color = 'blue', alpha = 0.5)\n",
        "    axarr[enum,2].hist(kmers_arr_var,range = (20,80),bins = 80, label='The variant',\n",
        "                    color = 'red', alpha = 0.5)\n",
        "    axarr[enum,2].set_title(f' Original + var simultaneously (k = 21)')\n",
        "\n",
        "plt.show()"
      ],
      "metadata": {
        "colab": {
          "base_uri": "https://localhost:8080/",
          "height": 607
        },
        "id": "7fptHP9P35cd",
        "outputId": "7213d3df-cecb-444e-a805-b1571711acc4"
      },
      "execution_count": null,
      "outputs": [
        {
          "output_type": "display_data",
          "data": {
            "text/plain": [
              "<Figure size 720x720 with 6 Axes>"
            ],
            "image/png": "[encoded data removed]"
          },
          "metadata": {
            "needs_background": "light"
          }
        }
      ]
    },
    {
      "cell_type": "markdown",
      "source": [
        "Then let's сount how many times each kmer, which is missing in first dictionary but appears in the second dictionary."
      ],
      "metadata": {
        "id": "wZdjKUN74snF"
      }
    },
    {
      "cell_type": "code",
      "source": [
        "# Here we check: doesn't kmer appear in second dictionary and if it's so\n",
        "# we add frequency this kmer (which doesn't appear) in list\n",
        "\n",
        "# Missing kmers in original\n",
        "kmers_freq = [v for k, v in kmers_dict.items() if k not in kmers_dict_var]\n",
        "# Missing kmers in variant\n",
        "kmers_freq_var = [v for k, v in kmers_dict_var.items() if k not in kmers_dict]\n"
      ],
      "metadata": {
        "id": "wdKdQTD45isj"
      },
      "execution_count": null,
      "outputs": []
    },
    {
      "cell_type": "markdown",
      "source": [
        "We use here the same idea that we used above (about outliers)"
      ],
      "metadata": {
        "id": "jIf6zhc07JER"
      }
    },
    {
      "cell_type": "code",
      "source": [
        "f, axarr = plt.subplots(2, 3, figsize=(10, 10))\n",
        "for enum in range(2):\n",
        "\n",
        "  if enum == 0:\n",
        "    axarr[enum,0].hist(kmers_freq,range = (0,80),bins = 80, label='The original',\n",
        "                    color = 'blue')\n",
        "    axarr[enum,0].set_title(f' Original (k = 21)')\n",
        "\n",
        "    axarr[enum,1].hist(kmers_freq_var,range = (0,80),bins = 80, label='The variant',\n",
        "                    color = 'red')\n",
        "    axarr[enum,1].set_title(f' Variant (k = 21)')\n",
        "\n",
        "    axarr[enum,2].hist(kmers_freq,range = (0,80),bins = 80, label='The original',\n",
        "                    color = 'blue', alpha = 0.5)\n",
        "    axarr[enum,2].hist(kmers_freq_var,range = (0,80),bins = 80, label='The variant',\n",
        "                    color = 'red', alpha = 0.5)\n",
        "    axarr[enum,2].set_title(f' Original + var simultaneously (k = 21)')\n",
        "    \n",
        "\n",
        "  else:\n",
        "    axarr[enum,0].hist(kmers_freq,range = (40,50), bins = 30, label='The original',\n",
        "                    color = 'blue')\n",
        "    axarr[enum,0].set_title(f' Original (k = 21)')\n",
        "\n",
        "    axarr[enum,1].hist(kmers_freq_var,range = (30,50), bins = 30, label='The variant',\n",
        "                    color = 'red')\n",
        "    axarr[enum,1].set_title(f' Variant (k = 21)')\n",
        "\n",
        "    axarr[enum,2].hist(kmers_freq,range = (30,50), bins = 30, label='The original',\n",
        "                    color = 'blue', alpha = 0.5)\n",
        "    axarr[enum,2].hist(kmers_freq_var,range = (30,50), bins = 30, label='The variant',\n",
        "                    color = 'red', alpha = 0.5)\n",
        "    axarr[enum,2].set_title(f' Original + var simultaneously (k = 21)')\n",
        "\n",
        "plt.show()"
      ],
      "metadata": {
        "colab": {
          "base_uri": "https://localhost:8080/",
          "height": 607
        },
        "id": "aH71HUzD9GJY",
        "outputId": "2bc117d7-8d42-49d6-d020-24791d7aea8d"
      },
      "execution_count": null,
      "outputs": [
        {
          "output_type": "display_data",
          "data": {
            "text/plain": [
              "<Figure size 720x720 with 6 Axes>"
            ],
            "image/png": "[encoded data removed]"
          },
          "metadata": {
            "needs_background": "light"
          }
        }
      ]
    },
    {
      "cell_type": "code",
      "source": [
        "del kmers_freq, kmers_freq_var, kmers_arr, kmers_arr_var\n",
        "gc.collect()"
      ],
      "metadata": {
        "colab": {
          "base_uri": "https://localhost:8080/"
        },
        "id": "WMrDhKRtjT_b",
        "outputId": "db0662e2-12b6-4882-c000-e61ef5ad06be"
      },
      "execution_count": null,
      "outputs": [
        {
          "output_type": "execute_result",
          "data": {
            "text/plain": [
              "247"
            ]
          },
          "metadata": {},
          "execution_count": 12
        }
      ]
    },
    {
      "cell_type": "markdown",
      "source": [
        "It's easy to see that we have couple part of histograms. We will work with each of them separately. \\\\\n"
      ],
      "metadata": {
        "id": "__EeQhr__jV2"
      }
    },
    {
      "cell_type": "markdown",
      "source": [
        "First of all we will try to find mistake in right part of that data."
      ],
      "metadata": {
        "id": "zxuDBM_KiG92"
      }
    },
    {
      "cell_type": "code",
      "source": [
        "kmers_assembly = [Dseqrecord(k) for k, f in kmers_dict.items() if ((f > 42.5) & (f < 50) & (k not in kmers_dict_var))]"
      ],
      "metadata": {
        "id": "5_ex5U2Rxvsc"
      },
      "execution_count": null,
      "outputs": []
    },
    {
      "cell_type": "code",
      "source": [
        "seq = Assembly(kmers_assembly, limit = 22).assemble_linear()\n",
        "print(seq[0].seq.watson)"
      ],
      "metadata": {
        "colab": {
          "base_uri": "https://localhost:8080/"
        },
        "id": "im4mTSWgZ_LN",
        "outputId": "26961380-909f-41bc-c397-4060322afb6d"
      },
      "execution_count": null,
      "outputs": [
        {
          "output_type": "stream",
          "name": "stdout",
          "text": [
            "CTACACCTAGCTTCTGGGCGAGTTTACGGGTTGT\n"
          ]
        }
      ]
    },
    {
      "cell_type": "code",
      "source": [
        "kmers_assembly_var = [Dseqrecord(k) for k, f in kmers_dict_var.items() if ((f > 40) & (f < 50) & (k not in kmers_dict))]"
      ],
      "metadata": {
        "id": "6JQVYC6BdgeM"
      },
      "execution_count": null,
      "outputs": []
    },
    {
      "cell_type": "code",
      "source": [
        "seq_var = Assembly(kmers_assembly_var,limit = 22).assemble_linear()\n",
        "print(seq_var[0].seq.watson)"
      ],
      "metadata": {
        "colab": {
          "base_uri": "https://localhost:8080/"
        },
        "id": "TiZpqKteh61o",
        "outputId": "573b9be6-f048-4c71-d7ad-b338ef7f73d8"
      },
      "execution_count": null,
      "outputs": [
        {
          "output_type": "stream",
          "name": "stdout",
          "text": [
            "CTACACCTAGCTTCTGGGCGAGGGGACGGGTTGTTAAACCTTCGATT\n"
          ]
        }
      ]
    },
    {
      "cell_type": "markdown",
      "source": [
        "Now let's compare this strings \\\\\n",
        "\n",
        "CTACACCTAGCTTCTGGGCGAG_TTT_ACGGGTTGT \\\\\n",
        "CTACACCTAGCTTCTGGGCGAG_GGG_ACGGGTTGT\n",
        "\n",
        "Easy to see the mutation!"
      ],
      "metadata": {
        "id": "foQFsUPKiP37"
      }
    },
    {
      "cell_type": "code",
      "source": [
        "kmers_assembly = [Dseqrecord(k) for k, f in kmers_dict.items() if ((f > 40) & (f < 42.5) & (k not in kmers_dict_var))]"
      ],
      "metadata": {
        "id": "XpY7nPSTeAEq"
      },
      "execution_count": null,
      "outputs": []
    },
    {
      "cell_type": "code",
      "source": [
        "seq = Assembly(kmers_assembly,limit = 22).assemble_linear()\n",
        "print(seq[0].seq.watson)"
      ],
      "metadata": {
        "colab": {
          "base_uri": "https://localhost:8080/"
        },
        "id": "deTaC1dpiYoV",
        "outputId": "bf641711-015f-46e9-c8ce-0614c6f3e474"
      },
      "execution_count": null,
      "outputs": [
        {
          "output_type": "stream",
          "name": "stdout",
          "text": [
            "CAACCCGTAAACTCGCCCAGAAGCTAGGTG\n"
          ]
        }
      ]
    },
    {
      "cell_type": "code",
      "source": [
        "kmers_assembly_var = [Dseqrecord(k) for k, f in kmers_dict_var.items() if ((f > 30) & (f < 35) & (k not in kmers_dict))]"
      ],
      "metadata": {
        "id": "K0gd_rnnoKX1"
      },
      "execution_count": null,
      "outputs": []
    },
    {
      "cell_type": "code",
      "source": [
        "seq_var = Assembly(kmers_assembly_var,limit = 22).assemble_linear()\n",
        "print(seq_var[0].seq.watson)"
      ],
      "metadata": {
        "colab": {
          "base_uri": "https://localhost:8080/"
        },
        "id": "VYOAw7yjiget",
        "outputId": "df3dd212-0c44-4251-89d9-dce25744641b"
      },
      "execution_count": null,
      "outputs": [
        {
          "output_type": "stream",
          "name": "stdout",
          "text": [
            "AATCGAAGGTTTAACAACCCGTCCCCTCGCCCAGAAGCTAGGTGTAG\n"
          ]
        }
      ]
    },
    {
      "cell_type": "markdown",
      "source": [
        "The next mutation is: \\\\\n",
        "CAACCCGT_AAA_CTCGCCCAGAAGCTAGGTG \\\\\n",
        "CAACCCGT_CCC_CTCGCCCAGAAGCTAGGTG"
      ],
      "metadata": {
        "id": "Lk3ng764oUdX"
      }
    }
  ],
  "metadata": {
    "colab": {
      "provenance": []
    },
    "kernelspec": {
      "display_name": "Python 3",
      "name": "python3"
    },
    "language_info": {
      "name": "python"
    }
  },
  "nbformat": 4,
  "nbformat_minor": 0
}