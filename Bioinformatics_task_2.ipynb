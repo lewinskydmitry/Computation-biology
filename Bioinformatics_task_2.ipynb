{
  "nbformat": 4,
  "nbformat_minor": 0,
  "metadata": {
    "colab": {
      "provenance": [],
      "collapsed_sections": []
    },
    "kernelspec": {
      "name": "python3",
      "display_name": "Python 3"
    },
    "language_info": {
      "name": "python"
    }
  },
  "cells": [
    {
      "cell_type": "code",
      "source": [
        "pip install biopython"
      ],
      "metadata": {
        "colab": {
          "base_uri": "https://localhost:8080/"
        },
        "id": "VaPl6vP1fXcG",
        "outputId": "2d05eaee-17a9-455d-8cd3-216b1bd4883f"
      },
      "execution_count": null,
      "outputs": [
        {
          "output_type": "stream",
          "name": "stdout",
          "text": [
            "Looking in indexes: https://pypi.org/simple, https://us-python.pkg.dev/colab-wheels/public/simple/\n",
            "Requirement already satisfied: biopython in /usr/local/lib/python3.7/dist-packages (1.79)\n",
            "Requirement already satisfied: numpy in /usr/local/lib/python3.7/dist-packages (from biopython) (1.21.6)\n"
          ]
        }
      ]
    },
    {
      "cell_type": "code",
      "execution_count": null,
      "metadata": {
        "id": "0NQRjSTLe0Nh"
      },
      "outputs": [],
      "source": [
        "import numpy as np\n",
        "import pandas as pd\n",
        "import Bio.SeqIO as bio\n",
        "import matplotlib.pyplot as plt\n",
        "from sklearn.metrics import mutual_info_score\n",
        "from sklearn.metrics.cluster import normalized_mutual_info_score\n",
        "from sklearn.metrics.cluster import adjusted_mutual_info_score\n",
        "import math"
      ]
    },
    {
      "cell_type": "code",
      "source": [
        "seq = []\n",
        "for i, record in enumerate(bio.parse(\"/content/PF00440_rp15.txt\", \"fasta\")):\n",
        "    seq.append(list(str(record.seq).upper()))"
      ],
      "metadata": {
        "id": "WaJPoEfce6WI"
      },
      "execution_count": null,
      "outputs": []
    },
    {
      "cell_type": "code",
      "source": [
        "df = np.array(seq)"
      ],
      "metadata": {
        "id": "PgrVEzWuflKy"
      },
      "execution_count": null,
      "outputs": []
    },
    {
      "cell_type": "code",
      "source": [
        "df[df == '-'] = np.nan"
      ],
      "metadata": {
        "id": "PfCQumS1iQEu"
      },
      "execution_count": null,
      "outputs": []
    },
    {
      "cell_type": "code",
      "source": [
        "df"
      ],
      "metadata": {
        "colab": {
          "base_uri": "https://localhost:8080/"
        },
        "id": "JKoE3_TeUmWH",
        "outputId": "b463a080-9830-422a-ff8f-f0a0c7c30e59"
      },
      "execution_count": null,
      "outputs": [
        {
          "output_type": "execute_result",
          "data": {
            "text/plain": [
              "array([['I', 'L', 'A', ..., 'E', 'A', 'L'],\n",
              "       ['I', 'L', 'Q', ..., 'E', 'A', 'L'],\n",
              "       ['L', 'I', 'T', ..., 'F', 'A', 'A'],\n",
              "       ...,\n",
              "       ['n', 'n', 'n', ..., 'n', 'n', 'n'],\n",
              "       ['n', 'n', 'A', ..., 'N', 'H', 'n'],\n",
              "       ['n', 'L', 'Q', ..., 'R', 'n', 'n']], dtype='<U1')"
            ]
          },
          "metadata": {},
          "execution_count": 33
        }
      ]
    },
    {
      "cell_type": "markdown",
      "source": [
        "Here we drop columns where more than 50% empty values"
      ],
      "metadata": {
        "id": "lRXN5XmelZKI"
      }
    },
    {
      "cell_type": "code",
      "source": [
        "empty_col = []\n",
        "for column in range(df.shape[1]):\n",
        "  perc_nan = sum(df[:,column] == 'n') / len(df) * 100\n",
        "  if perc_nan > 50:\n",
        "    empty_col.append(column)"
      ],
      "metadata": {
        "id": "ZSfkqljcVyMk"
      },
      "execution_count": null,
      "outputs": []
    },
    {
      "cell_type": "code",
      "source": [
        "df = np.delete(df,empty_col,1)"
      ],
      "metadata": {
        "id": "KdZ7-3-iWcMf"
      },
      "execution_count": null,
      "outputs": []
    },
    {
      "cell_type": "code",
      "source": [
        "df.shape"
      ],
      "metadata": {
        "colab": {
          "base_uri": "https://localhost:8080/"
        },
        "id": "urXjc-n6Wl2w",
        "outputId": "0960edef-bccd-4339-d3a3-0f21a28c6e35"
      },
      "execution_count": null,
      "outputs": [
        {
          "output_type": "execute_result",
          "data": {
            "text/plain": [
              "(12702, 46)"
            ]
          },
          "metadata": {},
          "execution_count": 36
        }
      ]
    },
    {
      "cell_type": "markdown",
      "source": [
        "Here we can see distribution of empty values in columns\n",
        "\n",
        "X - % of empty values in column\n",
        "\n",
        "Y - number of columns with such % of empty values"
      ],
      "metadata": {
        "id": "TC8mJbmll3TM"
      }
    },
    {
      "cell_type": "code",
      "source": [
        "plt.hist(pd.DataFrame(df).replace('n',np.NaN).isna().sum()/len(df)*100,bins = 50);"
      ],
      "metadata": {
        "colab": {
          "base_uri": "https://localhost:8080/",
          "height": 265
        },
        "id": "vTxPZhoZnmxq",
        "outputId": "6dd270ca-7131-4c24-b86b-4456d1a89bf6"
      },
      "execution_count": null,
      "outputs": [
        {
          "output_type": "display_data",
          "data": {
            "text/plain": [
              "<Figure size 432x288 with 1 Axes>"
            ],
            "image/png": "[encoded data removed]"
          },
          "metadata": {
            "needs_background": "light"
          }
        }
      ]
    },
    {
      "cell_type": "markdown",
      "source": [
        "## Make labels"
      ],
      "metadata": {
        "id": "NKB8ZoL2qN6K"
      }
    },
    {
      "cell_type": "code",
      "source": [
        "from sklearn import preprocessing\n",
        "le = preprocessing.LabelEncoder()"
      ],
      "metadata": {
        "id": "aMI4trsSodf9"
      },
      "execution_count": null,
      "outputs": []
    },
    {
      "cell_type": "code",
      "source": [
        "labels = []\n",
        "for col in range(df.shape[1]):\n",
        "  labels = set(list(np.unique(df[:,col])) + list(labels))"
      ],
      "metadata": {
        "id": "7ig22HtroeXg"
      },
      "execution_count": null,
      "outputs": []
    },
    {
      "cell_type": "code",
      "source": [
        "labels = list(labels)\n",
        "labels.remove('n')\n",
        "# print something as example\n",
        "labels[:3]"
      ],
      "metadata": {
        "colab": {
          "base_uri": "https://localhost:8080/"
        },
        "id": "rhaIXIfTYQWt",
        "outputId": "ab6208dc-934a-4d70-d339-a7d38a15a6eb"
      },
      "execution_count": null,
      "outputs": [
        {
          "output_type": "execute_result",
          "data": {
            "text/plain": [
              "['C', 'L', 'E']"
            ]
          },
          "metadata": {},
          "execution_count": 40
        }
      ]
    },
    {
      "cell_type": "code",
      "source": [
        "# fit and apply the model for transformation \n",
        "le.fit(np.array(labels))\n",
        "labels_transform = le.transform(np.array(labels))"
      ],
      "metadata": {
        "id": "YNRTc7bcpvK3"
      },
      "execution_count": null,
      "outputs": []
    },
    {
      "cell_type": "code",
      "source": [
        "le.inverse_transform(labels_transform)"
      ],
      "metadata": {
        "colab": {
          "base_uri": "https://localhost:8080/"
        },
        "id": "vbF73zHP4fQe",
        "outputId": "d3b8b7fd-0d71-46a6-ed39-539ee6a1691a"
      },
      "execution_count": null,
      "outputs": [
        {
          "output_type": "execute_result",
          "data": {
            "text/plain": [
              "array(['C', 'L', 'E', 'D', 'X', 'Q', 'R', 'I', 'F', 'H', 'M', 'W', 'N',\n",
              "       'P', 'Y', 'T', 'G', 'V', 'S', 'A', 'K'], dtype='<U1')"
            ]
          },
          "metadata": {},
          "execution_count": 42
        }
      ]
    },
    {
      "cell_type": "code",
      "source": [
        "labels_transform"
      ],
      "metadata": {
        "colab": {
          "base_uri": "https://localhost:8080/"
        },
        "id": "3IcH5AY4p0DY",
        "outputId": "d2da669d-1bf5-4b31-d962-7ebb8b42255d"
      },
      "execution_count": null,
      "outputs": [
        {
          "output_type": "execute_result",
          "data": {
            "text/plain": [
              "array([ 1,  9,  3,  2, 19, 13, 14,  7,  4,  6, 10, 18, 11, 12, 20, 16,  5,\n",
              "       17, 15,  0,  8])"
            ]
          },
          "metadata": {},
          "execution_count": 43
        }
      ]
    },
    {
      "cell_type": "code",
      "source": [
        "# let's apply the model to the data\n",
        "df_labeled = df.copy()\n",
        "\n",
        "for i,label in enumerate(le.classes_):\n",
        "  df_labeled[df_labeled == label] = labels_transform[i]"
      ],
      "metadata": {
        "id": "js2wdAWi3ur_"
      },
      "execution_count": null,
      "outputs": []
    },
    {
      "cell_type": "code",
      "source": [
        "n = df.shape[1]\n",
        "mut_matrix = np.zeros((n,n))"
      ],
      "metadata": {
        "id": "efGNBZ3D6ULz"
      },
      "execution_count": null,
      "outputs": []
    },
    {
      "cell_type": "code",
      "source": [
        "df_labeled"
      ],
      "metadata": {
        "colab": {
          "base_uri": "https://localhost:8080/"
        },
        "id": "Jg0lKBJwNfYf",
        "outputId": "8e64e515-6910-43f3-b9df-7c18ce766b00"
      },
      "execution_count": null,
      "outputs": [
        {
          "output_type": "execute_result",
          "data": {
            "text/plain": [
              "array([['7', '6', '1', ..., '6', '2', '1'],\n",
              "       ['7', '6', '1', ..., '6', '2', '1'],\n",
              "       ['6', '7', '5', ..., '6', '1', '1'],\n",
              "       ...,\n",
              "       ['n', 'n', 'n', ..., '6', 'n', 'n'],\n",
              "       ['n', 'n', '1', ..., '6', '1', '1'],\n",
              "       ['n', '6', '1', ..., '1', '2', 'n']], dtype='<U1')"
            ]
          },
          "metadata": {},
          "execution_count": 46
        }
      ]
    },
    {
      "cell_type": "code",
      "source": [
        "def mutual_information(x_col, y_col):\n",
        "  \"\"\"\n",
        "  Mutual information function\n",
        "  Alexander and Dmitrii\n",
        "  \"\"\"\n",
        "  summation = 0.0\n",
        "  values_x = np.array(list(set(x_col)))\n",
        "  values_y = np.array(list(set(y_col)))\n",
        "  n = len(x_col)\n",
        "  try:\n",
        "    values_y.remove('n')\n",
        "    values_x.remove('n')\n",
        "  except:\n",
        "    pass\n",
        "\n",
        "  for x_i in values_x:\n",
        "    for y_j in values_y:\n",
        "      px = sum(np.where(x_col == x_i,1,0)) / n\n",
        "      py = sum(np.where(y_col == y_j,1,0)) / n\n",
        "\n",
        "      first = np.where(x_col==x_i,1,0)\n",
        "      second = np.where(y_col==y_j,1,0)\n",
        "      agreg = np.array([1 if first[i] * second[i] == 1 else 0 for i in range(len(first)) ])\n",
        "\n",
        "      pxy = sum(agreg)/n\n",
        "\n",
        "      if pxy > 0.0:\n",
        "        summation += pxy * np.log( pxy  / (px*py) )\n",
        "  return summation"
      ],
      "metadata": {
        "id": "bDioc-8pI4zV"
      },
      "execution_count": null,
      "outputs": []
    },
    {
      "cell_type": "code",
      "source": [
        "# Artem's function for mutural information\n",
        "\n",
        "def prob_i(column, A, N):\n",
        "    A = str(A)\n",
        "    return sum(np.where(column == A,1,0))/N\n",
        "\n",
        "def prob_joint_ij(column_i, column_j, A, B, N):\n",
        "    A = str(A)\n",
        "    B = str(B)\n",
        "    c1 = np.where(column_i == A,1,0)\n",
        "    c2 = np.where(column_j == B,1,0)\n",
        "    n_ij = 0\n",
        "    for i in range(c1.size):\n",
        "      if c1[i] == c2[i] == 1:\n",
        "        n_ij += 1\n",
        "    return n_ij/N\n",
        "\n",
        "def mutual_info(column_i, column_j, labels, N = None):\n",
        "    N = len(column_i)\n",
        "    mutual_info = 0\n",
        "    for i in labels:\n",
        "        for j in labels:\n",
        "            p_i = prob_i(column_i, i, N)\n",
        "            p_j = prob_i(column_j, j, N)\n",
        "            R_ij = prob_joint_ij(column_i, column_j, i, j, N)\n",
        "            if (R_ij > 0 and p_i > 0 and p_j > 0):\n",
        "                mutual_info += R_ij*np.log( R_ij / (p_i * p_j))\n",
        "    return mutual_info\n",
        "\n",
        "def mutual_info_new(mi_matrix):\n",
        "  new_mi_matrix = np.zeros((n,n))\n",
        "  for i in range(n):\n",
        "    for j in range(n):\n",
        "      for k in range(n):\n",
        "        s = mi_matrix[k, j] + mi_matrix[i, k]\n",
        "      new_mi_matrix[i, j] = mi_matrix[i, j] - 1/n * s\n",
        "  return new_mi_matrix"
      ],
      "metadata": {
        "id": "TeZHnDGqk6bc"
      },
      "execution_count": null,
      "outputs": []
    },
    {
      "cell_type": "markdown",
      "source": [
        "But in our case we will use function from sklearn because of normalization and speed (and quality)"
      ],
      "metadata": {
        "id": "gtoi5soGlBMf"
      }
    },
    {
      "cell_type": "code",
      "source": [
        "for i in range(n):\n",
        "  for j in range(n):\n",
        "    mut_matrix[i,j] = normalized_mutual_info_score(df_labeled[i],df_labeled[j])\n",
        "    # mut_matrix[i,j] = adjusted_mutual_info_score(df_labeled[i],df_labeled[j])\n",
        "    # mut_matrix[i,j] = mutual_information(df_labeled[i],df_labeled[j])"
      ],
      "metadata": {
        "id": "2Qrj2s-obbIa"
      },
      "execution_count": null,
      "outputs": []
    },
    {
      "cell_type": "code",
      "source": [
        "pd.DataFrame(mut_matrix).head()"
      ],
      "metadata": {
        "colab": {
          "base_uri": "https://localhost:8080/",
          "height": 300
        },
        "id": "wEK86S_sVPRH",
        "outputId": "7e34f647-a3a4-4d4c-a451-a99102a14941"
      },
      "execution_count": null,
      "outputs": [
        {
          "output_type": "execute_result",
          "data": {
            "text/plain": [
              "         0         1         2         3         4         5         6   \\\n",
              "0  1.000000  0.521777  0.522434  0.452128  0.423082  0.394151  0.427203   \n",
              "1  0.521777  1.000000  0.390159  0.527101  0.438128  0.447708  0.385816   \n",
              "2  0.522434  0.390159  1.000000  0.503551  0.349409  0.389867  0.566550   \n",
              "3  0.452128  0.527101  0.503551  1.000000  0.368200  0.377029  0.602943   \n",
              "4  0.423082  0.438128  0.349409  0.368200  1.000000  0.535904  0.346510   \n",
              "\n",
              "         7         8         9   ...        36        37        38        39  \\\n",
              "0  0.332400  0.396681  0.429910  ...  0.418263  0.413743  0.332641  0.338015   \n",
              "1  0.482598  0.387095  0.463587  ...  0.445116  0.452606  0.274431  0.354701   \n",
              "2  0.368508  0.357668  0.391951  ...  0.329697  0.421834  0.383634  0.369315   \n",
              "3  0.496202  0.486237  0.495547  ...  0.420430  0.388433  0.271327  0.298269   \n",
              "4  0.347809  0.440109  0.328375  ...  0.478102  0.432919  0.467739  0.443853   \n",
              "\n",
              "         40        41        42        43        44        45  \n",
              "0  0.459020  0.420629  0.339828  0.473906  0.472510  0.394296  \n",
              "1  0.307636  0.437934  0.292988  0.480660  0.351324  0.453154  \n",
              "2  0.407544  0.365975  0.366535  0.492726  0.576112  0.464840  \n",
              "3  0.311305  0.354370  0.579917  0.592851  0.539973  0.475696  \n",
              "4  0.471216  0.490055  0.349977  0.316542  0.359007  0.403469  \n",
              "\n",
              "[5 rows x 46 columns]"
            ],
            "text/html": [
              "\n",
              "  <div id=\"df-8bd435a3-78d6-4175-962b-c5ea2a888632\">\n",
              "    <div class=\"colab-df-container\">\n",
              "      <div>\n",
              "<style scoped>\n",
              "    .dataframe tbody tr th:only-of-type {\n",
              "        vertical-align: middle;\n",
              "    }\n",
              "\n",
              "    .dataframe tbody tr th {\n",
              "        vertical-align: top;\n",
              "    }\n",
              "\n",
              "    .dataframe thead th {\n",
              "        text-align: right;\n",
              "    }\n",
              "</style>\n",
              "<table border=\"1\" class=\"dataframe\">\n",
              "  <thead>\n",
              "    <tr style=\"text-align: right;\">\n",
              "      <th></th>\n",
              "      <th>0</th>\n",
              "      <th>1</th>\n",
              "      <th>2</th>\n",
              "      <th>3</th>\n",
              "      <th>4</th>\n",
              "      <th>5</th>\n",
              "      <th>6</th>\n",
              "      <th>7</th>\n",
              "      <th>8</th>\n",
              "      <th>9</th>\n",
              "      <th>...</th>\n",
              "      <th>36</th>\n",
              "      <th>37</th>\n",
              "      <th>38</th>\n",
              "      <th>39</th>\n",
              "      <th>40</th>\n",
              "      <th>41</th>\n",
              "      <th>42</th>\n",
              "      <th>43</th>\n",
              "      <th>44</th>\n",
              "      <th>45</th>\n",
              "    </tr>\n",
              "  </thead>\n",
              "  <tbody>\n",
              "    <tr>\n",
              "      <th>0</th>\n",
              "      <td>1.000000</td>\n",
              "      <td>0.521777</td>\n",
              "      <td>0.522434</td>\n",
              "      <td>0.452128</td>\n",
              "      <td>0.423082</td>\n",
              "      <td>0.394151</td>\n",
              "      <td>0.427203</td>\n",
              "      <td>0.332400</td>\n",
              "      <td>0.396681</td>\n",
              "      <td>0.429910</td>\n",
              "      <td>...</td>\n",
              "      <td>0.418263</td>\n",
              "      <td>0.413743</td>\n",
              "      <td>0.332641</td>\n",
              "      <td>0.338015</td>\n",
              "      <td>0.459020</td>\n",
              "      <td>0.420629</td>\n",
              "      <td>0.339828</td>\n",
              "      <td>0.473906</td>\n",
              "      <td>0.472510</td>\n",
              "      <td>0.394296</td>\n",
              "    </tr>\n",
              "    <tr>\n",
              "      <th>1</th>\n",
              "      <td>0.521777</td>\n",
              "      <td>1.000000</td>\n",
              "      <td>0.390159</td>\n",
              "      <td>0.527101</td>\n",
              "      <td>0.438128</td>\n",
              "      <td>0.447708</td>\n",
              "      <td>0.385816</td>\n",
              "      <td>0.482598</td>\n",
              "      <td>0.387095</td>\n",
              "      <td>0.463587</td>\n",
              "      <td>...</td>\n",
              "      <td>0.445116</td>\n",
              "      <td>0.452606</td>\n",
              "      <td>0.274431</td>\n",
              "      <td>0.354701</td>\n",
              "      <td>0.307636</td>\n",
              "      <td>0.437934</td>\n",
              "      <td>0.292988</td>\n",
              "      <td>0.480660</td>\n",
              "      <td>0.351324</td>\n",
              "      <td>0.453154</td>\n",
              "    </tr>\n",
              "    <tr>\n",
              "      <th>2</th>\n",
              "      <td>0.522434</td>\n",
              "      <td>0.390159</td>\n",
              "      <td>1.000000</td>\n",
              "      <td>0.503551</td>\n",
              "      <td>0.349409</td>\n",
              "      <td>0.389867</td>\n",
              "      <td>0.566550</td>\n",
              "      <td>0.368508</td>\n",
              "      <td>0.357668</td>\n",
              "      <td>0.391951</td>\n",
              "      <td>...</td>\n",
              "      <td>0.329697</td>\n",
              "      <td>0.421834</td>\n",
              "      <td>0.383634</td>\n",
              "      <td>0.369315</td>\n",
              "      <td>0.407544</td>\n",
              "      <td>0.365975</td>\n",
              "      <td>0.366535</td>\n",
              "      <td>0.492726</td>\n",
              "      <td>0.576112</td>\n",
              "      <td>0.464840</td>\n",
              "    </tr>\n",
              "    <tr>\n",
              "      <th>3</th>\n",
              "      <td>0.452128</td>\n",
              "      <td>0.527101</td>\n",
              "      <td>0.503551</td>\n",
              "      <td>1.000000</td>\n",
              "      <td>0.368200</td>\n",
              "      <td>0.377029</td>\n",
              "      <td>0.602943</td>\n",
              "      <td>0.496202</td>\n",
              "      <td>0.486237</td>\n",
              "      <td>0.495547</td>\n",
              "      <td>...</td>\n",
              "      <td>0.420430</td>\n",
              "      <td>0.388433</td>\n",
              "      <td>0.271327</td>\n",
              "      <td>0.298269</td>\n",
              "      <td>0.311305</td>\n",
              "      <td>0.354370</td>\n",
              "      <td>0.579917</td>\n",
              "      <td>0.592851</td>\n",
              "      <td>0.539973</td>\n",
              "      <td>0.475696</td>\n",
              "    </tr>\n",
              "    <tr>\n",
              "      <th>4</th>\n",
              "      <td>0.423082</td>\n",
              "      <td>0.438128</td>\n",
              "      <td>0.349409</td>\n",
              "      <td>0.368200</td>\n",
              "      <td>1.000000</td>\n",
              "      <td>0.535904</td>\n",
              "      <td>0.346510</td>\n",
              "      <td>0.347809</td>\n",
              "      <td>0.440109</td>\n",
              "      <td>0.328375</td>\n",
              "      <td>...</td>\n",
              "      <td>0.478102</td>\n",
              "      <td>0.432919</td>\n",
              "      <td>0.467739</td>\n",
              "      <td>0.443853</td>\n",
              "      <td>0.471216</td>\n",
              "      <td>0.490055</td>\n",
              "      <td>0.349977</td>\n",
              "      <td>0.316542</td>\n",
              "      <td>0.359007</td>\n",
              "      <td>0.403469</td>\n",
              "    </tr>\n",
              "  </tbody>\n",
              "</table>\n",
              "<p>5 rows × 46 columns</p>\n",
              "</div>\n",
              "      <button class=\"colab-df-convert\" onclick=\"convertToInteractive('df-8bd435a3-78d6-4175-962b-c5ea2a888632')\"\n",
              "              title=\"Convert this dataframe to an interactive table.\"\n",
              "              style=\"display:none;\">\n",
              "        \n",
              "  <svg xmlns=\"http://www.w3.org/2000/svg\" height=\"24px\"viewBox=\"0 0 24 24\"\n",
              "       width=\"24px\">\n",
              "    <path d=\"M0 0h24v24H0V0z\" fill=\"none\"/>\n",
              "    <path d=\"M18.56 5.44l.94 2.06.94-2.06 2.06-.94-2.06-.94-.94-2.06-.94 2.06-2.06.94zm-11 1L8.5 8.5l.94-2.06 2.06-.94-2.06-.94L8.5 2.5l-.94 2.06-2.06.94zm10 10l.94 2.06.94-2.06 2.06-.94-2.06-.94-.94-2.06-.94 2.06-2.06.94z\"/><path d=\"M17.41 7.96l-1.37-1.37c-.4-.4-.92-.59-1.43-.59-.52 0-1.04.2-1.43.59L10.3 9.45l-7.72 7.72c-.78.78-.78 2.05 0 2.83L4 21.41c.39.39.9.59 1.41.59.51 0 1.02-.2 1.41-.59l7.78-7.78 2.81-2.81c.8-.78.8-2.07 0-2.86zM5.41 20L4 18.59l7.72-7.72 1.47 1.35L5.41 20z\"/>\n",
              "  </svg>\n",
              "      </button>\n",
              "      \n",
              "  <style>\n",
              "    .colab-df-container {\n",
              "      display:flex;\n",
              "      flex-wrap:wrap;\n",
              "      gap: 12px;\n",
              "    }\n",
              "\n",
              "    .colab-df-convert {\n",
              "      background-color: #E8F0FE;\n",
              "      border: none;\n",
              "      border-radius: 50%;\n",
              "      cursor: pointer;\n",
              "      display: none;\n",
              "      fill: #1967D2;\n",
              "      height: 32px;\n",
              "      padding: 0 0 0 0;\n",
              "      width: 32px;\n",
              "    }\n",
              "\n",
              "    .colab-df-convert:hover {\n",
              "      background-color: #E2EBFA;\n",
              "      box-shadow: 0px 1px 2px rgba(60, 64, 67, 0.3), 0px 1px 3px 1px rgba(60, 64, 67, 0.15);\n",
              "      fill: #174EA6;\n",
              "    }\n",
              "\n",
              "    [theme=dark] .colab-df-convert {\n",
              "      background-color: #3B4455;\n",
              "      fill: #D2E3FC;\n",
              "    }\n",
              "\n",
              "    [theme=dark] .colab-df-convert:hover {\n",
              "      background-color: #434B5C;\n",
              "      box-shadow: 0px 1px 3px 1px rgba(0, 0, 0, 0.15);\n",
              "      filter: drop-shadow(0px 1px 2px rgba(0, 0, 0, 0.3));\n",
              "      fill: #FFFFFF;\n",
              "    }\n",
              "  </style>\n",
              "\n",
              "      <script>\n",
              "        const buttonEl =\n",
              "          document.querySelector('#df-8bd435a3-78d6-4175-962b-c5ea2a888632 button.colab-df-convert');\n",
              "        buttonEl.style.display =\n",
              "          google.colab.kernel.accessAllowed ? 'block' : 'none';\n",
              "\n",
              "        async function convertToInteractive(key) {\n",
              "          const element = document.querySelector('#df-8bd435a3-78d6-4175-962b-c5ea2a888632');\n",
              "          const dataTable =\n",
              "            await google.colab.kernel.invokeFunction('convertToInteractive',\n",
              "                                                     [key], {});\n",
              "          if (!dataTable) return;\n",
              "\n",
              "          const docLinkHtml = 'Like what you see? Visit the ' +\n",
              "            '<a target=\"_blank\" href=https://colab.research.google.com/notebooks/data_table.ipynb>data table notebook</a>'\n",
              "            + ' to learn more about interactive tables.';\n",
              "          element.innerHTML = '';\n",
              "          dataTable['output_type'] = 'display_data';\n",
              "          await google.colab.output.renderOutput(dataTable, element);\n",
              "          const docLink = document.createElement('div');\n",
              "          docLink.innerHTML = docLinkHtml;\n",
              "          element.appendChild(docLink);\n",
              "        }\n",
              "      </script>\n",
              "    </div>\n",
              "  </div>\n",
              "  "
            ]
          },
          "metadata": {},
          "execution_count": 51
        }
      ]
    },
    {
      "cell_type": "code",
      "source": [
        "# Apply a filter to the data\n",
        "result = mut_matrix > 0.5"
      ],
      "metadata": {
        "id": "RymgtV9J-3jv"
      },
      "execution_count": null,
      "outputs": []
    },
    {
      "cell_type": "code",
      "source": [
        "result"
      ],
      "metadata": {
        "colab": {
          "base_uri": "https://localhost:8080/"
        },
        "id": "OslzkpDanLmj",
        "outputId": "f8567c51-298f-4b7c-cd10-b1c0bb5a84c1"
      },
      "execution_count": null,
      "outputs": [
        {
          "output_type": "execute_result",
          "data": {
            "text/plain": [
              "array([[ True,  True,  True, ..., False, False, False],\n",
              "       [ True,  True, False, ..., False, False, False],\n",
              "       [ True, False,  True, ..., False,  True, False],\n",
              "       ...,\n",
              "       [False, False, False, ...,  True,  True,  True],\n",
              "       [False, False,  True, ...,  True,  True, False],\n",
              "       [False, False, False, ...,  True, False,  True]])"
            ]
          },
          "metadata": {},
          "execution_count": 54
        }
      ]
    },
    {
      "cell_type": "code",
      "source": [
        "result = result.reshape(-1,1)"
      ],
      "metadata": {
        "id": "Xa2-Re68ABz9"
      },
      "execution_count": null,
      "outputs": []
    },
    {
      "cell_type": "code",
      "source": [
        "final_file = []\n",
        "for x in result:\n",
        "  final_file += list(x.astype(int))"
      ],
      "metadata": {
        "id": "RiWjicxRhyOF"
      },
      "execution_count": null,
      "outputs": []
    },
    {
      "cell_type": "code",
      "source": [
        "final_file.insert(0, n)\n",
        "print(final_file)"
      ],
      "metadata": {
        "colab": {
          "base_uri": "https://localhost:8080/"
        },
        "id": "_hFmSeaHnnyb",
        "outputId": "8525517a-780d-499b-b0c4-32c834a2d222"
      },
      "execution_count": null,
      "outputs": [
        {
          "output_type": "stream",
          "name": "stdout",
          "text": [
            "[46, 1, 1, 1, 0, 0, 0, 0, 0, 0, 0, 0, 0, 1, 0, 0, 0, 0, 0, 0, 0, 0, 0, 0, 0, 0, 0, 0, 0, 0, 0, 0, 0, 0, 0, 0, 0, 0, 0, 0, 0, 0, 0, 0, 0, 0, 0, 1, 1, 0, 1, 0, 0, 0, 0, 0, 0, 0, 0, 0, 1, 0, 0, 0, 0, 0, 0, 0, 0, 0, 0, 0, 0, 0, 0, 0, 0, 0, 0, 0, 0, 0, 0, 0, 0, 0, 0, 0, 0, 0, 0, 0, 0, 1, 0, 1, 1, 0, 0, 1, 0, 0, 0, 1, 0, 1, 0, 0, 0, 0, 0, 0, 0, 1, 1, 0, 0, 1, 0, 0, 1, 0, 1, 0, 0, 0, 0, 0, 0, 0, 0, 0, 0, 0, 0, 0, 0, 1, 0, 0, 1, 1, 1, 0, 0, 1, 0, 0, 0, 1, 0, 1, 0, 1, 0, 0, 0, 0, 1, 1, 0, 0, 0, 0, 0, 0, 1, 1, 0, 0, 1, 1, 0, 0, 0, 0, 0, 0, 0, 0, 0, 1, 1, 1, 0, 0, 0, 0, 0, 1, 1, 0, 0, 0, 0, 0, 0, 0, 0, 0, 0, 0, 0, 0, 0, 0, 0, 0, 0, 0, 0, 0, 0, 0, 0, 0, 0, 0, 0, 0, 0, 0, 0, 0, 0, 0, 0, 0, 0, 0, 0, 0, 0, 0, 0, 1, 1, 0, 0, 0, 0, 0, 0, 0, 0, 0, 0, 0, 0, 0, 0, 0, 0, 0, 0, 0, 0, 0, 0, 0, 0, 0, 0, 0, 0, 0, 0, 0, 0, 0, 0, 0, 0, 0, 0, 0, 0, 0, 0, 1, 1, 0, 0, 1, 0, 0, 0, 1, 0, 1, 1, 0, 0, 0, 0, 0, 1, 1, 1, 1, 0, 1, 1, 1, 1, 1, 1, 0, 1, 1, 1, 0, 0, 0, 0, 0, 0, 0, 0, 1, 0, 1, 0, 0, 0, 0, 0, 0, 0, 0, 1, 0, 1, 0, 1, 0, 0, 0, 0, 0, 0, 0, 1, 1, 0, 0, 1, 0, 1, 0, 1, 0, 1, 0, 1, 0, 1, 0, 1, 0, 0, 0, 0, 0, 0, 0, 0, 0, 1, 0, 0, 0, 0, 0, 0, 0, 0, 1, 1, 0, 0, 0, 0, 0, 0, 0, 0, 0, 0, 0, 0, 0, 0, 0, 0, 0, 1, 0, 0, 0, 0, 0, 0, 0, 0, 0, 0, 0, 0, 0, 0, 0, 0, 0, 0, 0, 0, 0, 0, 0, 0, 0, 1, 1, 1, 1, 1, 0, 0, 0, 0, 0, 0, 0, 1, 0, 1, 0, 1, 0, 1, 0, 1, 0, 1, 0, 1, 0, 1, 0, 1, 0, 0, 0, 0, 0, 0, 0, 1, 0, 1, 0, 0, 1, 1, 0, 0, 1, 0, 0, 1, 1, 1, 1, 1, 0, 0, 0, 0, 1, 1, 1, 1, 1, 1, 0, 0, 1, 0, 1, 0, 0, 1, 1, 0, 0, 0, 0, 0, 0, 0, 0, 0, 0, 1, 1, 1, 0, 0, 0, 0, 0, 0, 0, 1, 0, 1, 1, 1, 0, 1, 0, 0, 0, 0, 0, 1, 1, 1, 1, 1, 1, 1, 0, 1, 1, 1, 0, 1, 0, 1, 0, 1, 0, 0, 0, 0, 0, 0, 1, 0, 0, 1, 1, 0, 1, 1, 0, 0, 1, 0, 0, 0, 1, 0, 1, 1, 0, 0, 0, 0, 0, 0, 1, 0, 0, 0, 1, 0, 0, 1, 0, 1, 0, 1, 0, 1, 1, 0, 0, 0, 0, 0, 0, 0, 0, 0, 1, 0, 0, 1, 0, 0, 0, 0, 1, 0, 0, 0, 1, 1, 1, 1, 1, 0, 0, 0, 0, 1, 1, 1, 0, 1, 1, 1, 0, 1, 0, 1, 0, 1, 0, 1, 0, 1, 1, 0, 0, 0, 0, 0, 0, 0, 0, 1, 0, 0, 0, 1, 0, 0, 0, 0, 0, 0, 0, 0, 0, 1, 1, 0, 0, 0, 0, 0, 1, 0, 0, 0, 0, 0, 0, 0, 0, 0, 0, 0, 0, 0, 0, 0, 0, 0, 0, 0, 0, 0, 1, 0, 0, 0, 0, 0, 0, 0, 0, 0, 0, 0, 0, 0, 0, 0, 0, 0, 0, 1, 0, 0, 0, 0, 0, 0, 0, 0, 0, 0, 0, 0, 0, 0, 0, 0, 0, 0, 0, 0, 0, 0, 0, 0, 0, 0, 0, 0, 0, 0, 0, 0, 0, 0, 0, 0, 0, 0, 0, 0, 0, 0, 0, 0, 0, 0, 1, 1, 0, 0, 0, 0, 0, 0, 0, 0, 0, 0, 0, 0, 0, 0, 0, 0, 0, 0, 0, 0, 0, 0, 0, 0, 0, 0, 0, 0, 0, 0, 0, 0, 0, 0, 0, 0, 0, 0, 0, 0, 0, 0, 0, 0, 1, 1, 1, 0, 0, 0, 0, 0, 0, 0, 0, 0, 1, 0, 0, 0, 0, 0, 0, 0, 0, 0, 0, 0, 0, 0, 0, 0, 0, 0, 0, 0, 0, 0, 0, 0, 0, 0, 0, 0, 1, 0, 0, 0, 0, 0, 0, 1, 1, 0, 0, 0, 1, 0, 0, 0, 0, 1, 1, 0, 0, 0, 1, 1, 0, 0, 0, 0, 0, 0, 0, 0, 1, 0, 0, 1, 0, 0, 0, 1, 0, 0, 1, 1, 0, 1, 1, 1, 0, 1, 0, 0, 0, 0, 0, 1, 1, 1, 0, 1, 0, 1, 0, 1, 1, 1, 0, 1, 0, 1, 0, 1, 0, 0, 0, 0, 0, 0, 1, 0, 0, 1, 0, 0, 1, 1, 0, 0, 1, 1, 0, 0, 1, 1, 1, 1, 1, 0, 0, 0, 0, 1, 1, 0, 1, 0, 1, 1, 1, 1, 1, 1, 1, 1, 1, 1, 1, 1, 0, 0, 0, 0, 0, 0, 0, 0, 0, 1, 0, 0, 1, 0, 0, 0, 1, 0, 0, 1, 1, 1, 0, 1, 0, 0, 0, 0, 0, 1, 0, 1, 0, 1, 0, 1, 0, 0, 0, 1, 0, 0, 0, 1, 0, 1, 0, 0, 0, 0, 0, 0, 0, 0, 0, 1, 0, 0, 0, 0, 0, 0, 1, 0, 0, 0, 1, 1, 0, 0, 0, 0, 0, 0, 1, 0, 1, 0, 1, 0, 0, 0, 0, 0, 1, 0, 0, 0, 1, 0, 0, 0, 0, 0, 0, 0, 0, 0, 1, 0, 0, 0, 0, 0, 0, 0, 0, 0, 0, 1, 0, 1, 1, 1, 0, 1, 0, 0, 0, 0, 0, 1, 0, 1, 0, 1, 0, 1, 0, 1, 0, 1, 0, 1, 0, 1, 0, 1, 0, 0, 0, 0, 0, 0, 0, 0, 0, 0, 0, 0, 1, 0, 0, 0, 1, 0, 0, 0, 0, 1, 1, 1, 0, 0, 0, 0, 0, 0, 1, 0, 0, 0, 1, 0, 1, 0, 0, 1, 0, 1, 0, 1, 1, 0, 0, 0, 0, 0, 0, 0, 0, 1, 1, 0, 0, 0, 0, 0, 0, 0, 1, 1, 0, 1, 0, 1, 0, 1, 0, 0, 0, 0, 0, 1, 1, 1, 0, 1, 0, 1, 1, 1, 1, 1, 0, 1, 0, 1, 1, 1, 0, 0, 0, 1, 0, 0, 0, 0, 0, 1, 0, 0, 0, 0, 0, 0, 1, 0, 0, 0, 1, 0, 0, 0, 0, 0, 0, 0, 0, 0, 1, 0, 0, 0, 1, 1, 1, 0, 1, 0, 0, 0, 1, 0, 1, 1, 0, 0, 0, 0, 0, 0, 1, 0, 0, 0, 0, 0, 1, 1, 0, 0, 1, 1, 1, 1, 0, 1, 1, 1, 0, 0, 0, 0, 1, 1, 1, 0, 0, 1, 0, 1, 0, 1, 1, 1, 0, 1, 0, 1, 0, 1, 0, 0, 0, 0, 0, 0, 0, 1, 0, 1, 0, 0, 0, 1, 0, 0, 1, 0, 0, 0, 1, 1, 0, 0, 0, 0, 0, 1, 1, 1, 1, 0, 1, 0, 0, 1, 1, 1, 1, 0, 0, 1, 1, 1, 0, 1, 0, 0, 0, 0, 0, 0, 1, 0, 0, 0, 0, 0, 1, 0, 0, 0, 1, 1, 0, 1, 0, 1, 1, 1, 0, 0, 0, 0, 0, 1, 1, 1, 0, 1, 1, 1, 0, 1, 0, 1, 0, 1, 0, 1, 0, 1, 0, 0, 0, 0, 0, 0, 0, 0, 0, 0, 0, 0, 0, 0, 0, 0, 0, 0, 0, 0, 0, 0, 0, 0, 0, 0, 0, 0, 0, 0, 1, 0, 0, 0, 0, 0, 0, 0, 0, 0, 1, 0, 0, 0, 0, 0, 0, 0, 0, 0, 0, 0, 0, 1, 0, 0, 0, 0, 0, 1, 0, 0, 1, 1, 0, 1, 1, 1, 1, 1, 0, 0, 0, 0, 0, 1, 1, 0, 0, 1, 1, 1, 0, 1, 1, 1, 0, 1, 0, 1, 1, 1, 0, 0, 0, 0, 0, 0, 0, 0, 1, 1, 0, 0, 0, 1, 0, 0, 1, 0, 0, 0, 1, 0, 0, 0, 0, 0, 0, 0, 1, 0, 1, 0, 1, 0, 0, 0, 1, 0, 1, 0, 0, 0, 1, 0, 0, 0, 0, 0, 0, 0, 0, 0, 1, 0, 0, 0, 0, 0, 0, 0, 0, 0, 1, 1, 0, 1, 0, 1, 1, 1, 0, 0, 0, 0, 1, 1, 1, 1, 0, 1, 1, 1, 0, 1, 1, 1, 0, 1, 0, 1, 0, 1, 0, 0, 0, 0, 0, 0, 0, 0, 0, 1, 0, 0, 0, 0, 0, 0, 0, 0, 0, 0, 0, 0, 1, 0, 0, 0, 0, 0, 0, 0, 1, 0, 0, 0, 1, 1, 1, 0, 0, 0, 0, 1, 0, 0, 1, 0, 0, 0, 0, 0, 0, 0, 0, 0, 0, 0, 0, 0, 0, 0, 0, 0, 0, 1, 0, 1, 0, 1, 0, 1, 0, 0, 0, 0, 0, 1, 1, 1, 0, 1, 0, 1, 1, 1, 1, 1, 0, 1, 0, 1, 0, 1, 0, 0, 0, 0, 0, 0, 0, 0, 0, 1, 0, 0, 0, 0, 0, 0, 0, 0, 0, 0, 0, 0, 0, 1, 0, 0, 0, 0, 0, 0, 0, 0, 0, 0, 0, 0, 0, 0, 0, 0, 0, 0, 0, 0, 0, 0, 1, 0, 0, 0, 0, 0, 0, 0, 0, 0, 0, 0, 0, 0, 0, 0, 0, 0, 0, 0, 0, 0, 0, 0, 0, 0, 0, 0, 0, 0, 0, 0, 0, 0, 0, 0, 0, 0, 0, 0, 0, 0, 0, 0, 0, 0, 0, 1, 0, 0, 0, 0, 0, 0, 0, 0, 0, 0, 0, 0, 0, 0, 0, 0, 0, 0, 0, 0, 0, 0, 0, 0, 0, 0, 0, 0, 0, 0, 0, 0, 0, 0, 0, 0, 0, 0, 0, 0, 0, 0, 0, 0, 0, 0, 1, 0, 0, 0, 0, 0, 0, 0, 0, 0, 0, 0, 0, 0, 0, 0, 0, 0, 0, 0, 0, 0, 0, 0, 0, 0, 0, 0, 0, 0, 0, 0, 0, 1, 0, 0, 0, 0, 0, 0, 0, 0, 0, 0, 0, 0, 0, 1, 0, 0, 0, 0, 0, 0, 0, 0, 0, 0, 0, 0, 0, 0, 0, 0, 0, 0, 0, 0, 0, 0, 0, 0, 0, 0, 0, 0, 0, 0, 0, 0, 0, 0, 0, 0, 0, 0, 0, 0, 0, 0, 0, 0, 0, 0, 1, 0, 0, 0, 0, 0, 0, 0, 0, 0, 0, 0, 0, 0, 0, 0, 0, 0, 0, 0, 0, 0, 0, 0, 0, 0, 0, 0, 0, 0, 0, 0, 0, 0, 0, 0, 0, 0, 0, 0, 0, 0, 0, 0, 0, 0, 0, 1, 0, 0, 0, 0, 0, 0, 0, 1, 0, 0, 1, 0, 0, 0, 0, 1, 0, 0, 1, 0, 0, 0, 1, 1, 0, 0, 1, 0, 0, 0, 1, 0, 1, 0, 0, 0, 1, 0, 0, 0, 0, 0, 0, 0, 0, 0, 1, 0, 0, 0, 0, 0, 0, 1, 0, 0, 0, 0, 0, 1, 1, 0, 0, 0, 0, 0, 0, 0, 0, 0, 0, 0, 0, 0, 1, 0, 0, 1, 0, 0, 1, 0, 0, 0, 0, 0, 0, 0, 0, 0, 0, 0, 0, 1, 1, 1, 0, 0, 1, 1, 0, 0, 1, 0, 0, 0, 1, 0, 1, 0, 0, 0, 0, 0, 0, 0, 0, 0, 0, 0, 1, 0, 0, 0, 0, 0, 0, 1, 0, 0, 0, 0, 0, 0, 0, 0, 0, 0, 0, 1, 1, 0, 0, 0, 0, 0, 0, 0, 0, 1, 0, 1, 1, 1, 0, 1, 0, 0, 0, 0, 1, 1, 1, 1, 0, 0, 0, 1, 0, 1, 0, 0, 0, 1, 0, 1, 0, 1, 0, 0, 0, 0, 0, 0, 0, 1, 0, 1]\n"
          ]
        }
      ]
    },
    {
      "cell_type": "code",
      "source": [
        "with open(\"map1.cmap\", 'w') as f:\n",
        "    for x in final_file:\n",
        "      f.write(str(x)+'\\n')"
      ],
      "metadata": {
        "id": "SkhCx8fBnq2m"
      },
      "execution_count": null,
      "outputs": []
    }
  ]
}