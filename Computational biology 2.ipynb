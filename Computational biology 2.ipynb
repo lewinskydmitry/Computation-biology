{
 "cells": [
  {
   "cell_type": "markdown",
   "metadata": {},
   "source": [
    "# Load libraries"
   ]
  },
  {
   "cell_type": "code",
   "execution_count": 1,
   "metadata": {
    "id": "0NQRjSTLe0Nh"
   },
   "outputs": [],
   "source": [
    "import numpy as np\n",
    "import pandas as pd\n",
    "import Bio.SeqIO as bio\n",
    "import matplotlib.pyplot as plt\n",
    "from sklearn.metrics import mutual_info_score\n",
    "from sklearn.metrics.cluster import normalized_mutual_info_score\n",
    "from sklearn.metrics.cluster import adjusted_mutual_info_score\n",
    "import math"
   ]
  },
  {
   "cell_type": "markdown",
   "metadata": {},
   "source": [
    "# Load data"
   ]
  },
  {
   "attachments": {},
   "cell_type": "markdown",
   "metadata": {},
   "source": [
    "Here we load data as a matrix"
   ]
  },
  {
   "cell_type": "code",
   "execution_count": 2,
   "metadata": {
    "id": "WaJPoEfce6WI"
   },
   "outputs": [],
   "source": [
    "seq = []\n",
    "for i, record in enumerate(bio.parse(\"data/PF00440_rp15.txt\", \"fasta\")):\n",
    "    seq.append(list(str(record.seq).upper()))"
   ]
  },
  {
   "cell_type": "markdown",
   "metadata": {},
   "source": [
    "# Data preparation"
   ]
  },
  {
   "attachments": {},
   "cell_type": "markdown",
   "metadata": {},
   "source": [
    "Then we replace '-' by np.Nan (in fact it will be 'nan')"
   ]
  },
  {
   "cell_type": "code",
   "execution_count": 3,
   "metadata": {},
   "outputs": [
    {
     "data": {
      "text/plain": [
       "array([['I', 'L', 'A', ..., 'E', 'A', 'L'],\n",
       "       ['I', 'L', 'Q', ..., 'E', 'A', 'L'],\n",
       "       ['L', 'I', 'T', ..., 'F', 'A', 'A'],\n",
       "       ...,\n",
       "       ['nan', 'nan', 'nan', ..., 'nan', 'nan', 'nan'],\n",
       "       ['nan', 'nan', 'A', ..., 'N', 'H', 'nan'],\n",
       "       ['nan', 'L', 'Q', ..., 'R', 'nan', 'nan']], dtype='<U3')"
      ]
     },
     "execution_count": 3,
     "metadata": {},
     "output_type": "execute_result"
    }
   ],
   "source": [
    "df = np.array(seq).astype('<U3')\n",
    "df[df == '-'] = np.NaN\n",
    "df"
   ]
  },
  {
   "cell_type": "markdown",
   "metadata": {
    "id": "lRXN5XmelZKI"
   },
   "source": [
    "Here we drop columns where more than 30% empty values"
   ]
  },
  {
   "cell_type": "code",
   "execution_count": 4,
   "metadata": {
    "id": "ZSfkqljcVyMk"
   },
   "outputs": [],
   "source": [
    "empty_col = [] # create list for columns with a lot of nan\n",
    "for column in range(df.shape[1]): # iter over all columns\n",
    "  perc_nan = sum(df[:,column] == 'nan') / len(df) * 100 # calculate percentage of nan\n",
    "  if perc_nan > 30:\n",
    "    empty_col.append(column) # if nan > 30 then add this columns to the list\n",
    "    \n",
    "# Delete columns\n",
    "df = np.delete(df,empty_col,1) # delete all columns from the list"
   ]
  },
  {
   "cell_type": "markdown",
   "metadata": {
    "id": "TC8mJbmll3TM"
   },
   "source": [
    "Here we can see distribution of empty values in columns\n",
    "\n",
    "X - % of empty values in column\n",
    "\n",
    "Y - number of columns with such % of empty values"
   ]
  },
  {
   "cell_type": "code",
   "execution_count": 5,
   "metadata": {
    "colab": {
     "base_uri": "https://localhost:8080/",
     "height": 265
    },
    "id": "vTxPZhoZnmxq",
    "outputId": "6dd270ca-7131-4c24-b86b-4456d1a89bf6"
   },
   "outputs": [
    {
     "data": {
      "image/png": "[encoded data removed]",
      "text/plain": [
       "<Figure size 640x480 with 1 Axes>"
      ]
     },
     "metadata": {},
     "output_type": "display_data"
    }
   ],
   "source": [
    "plt.hist(pd.DataFrame(df).replace('nan',np.NaN).isna().sum()/len(df)*100,bins = 50);"
   ]
  },
  {
   "attachments": {},
   "cell_type": "markdown",
   "metadata": {},
   "source": [
    "Final shape of our data matrix"
   ]
  },
  {
   "cell_type": "code",
   "execution_count": 6,
   "metadata": {},
   "outputs": [
    {
     "data": {
      "text/plain": [
       "(12702, 44)"
      ]
     },
     "execution_count": 6,
     "metadata": {},
     "output_type": "execute_result"
    }
   ],
   "source": [
    "df.shape"
   ]
  },
  {
   "cell_type": "markdown",
   "metadata": {
    "id": "NKB8ZoL2qN6K"
   },
   "source": [
    "## Make labels"
   ]
  },
  {
   "cell_type": "markdown",
   "metadata": {},
   "source": [
    "Make label encoding"
   ]
  },
  {
   "cell_type": "code",
   "execution_count": 7,
   "metadata": {
    "id": "aMI4trsSodf9"
   },
   "outputs": [],
   "source": [
    "from sklearn import preprocessing\n",
    "le = preprocessing.LabelEncoder()"
   ]
  },
  {
   "cell_type": "markdown",
   "metadata": {},
   "source": [
    "Collect all existing labels"
   ]
  },
  {
   "cell_type": "code",
   "execution_count": 8,
   "metadata": {
    "id": "7ig22HtroeXg"
   },
   "outputs": [],
   "source": [
    "labels = []\n",
    "for col in range(df.shape[1]):\n",
    "  labels = set(list(np.unique(df[:,col])) + list(labels)) # collect all unique labels from all columns"
   ]
  },
  {
   "cell_type": "markdown",
   "metadata": {},
   "source": [
    "Remove nan label"
   ]
  },
  {
   "cell_type": "code",
   "execution_count": 9,
   "metadata": {},
   "outputs": [],
   "source": [
    "labels = list(labels) # make a list\n",
    "labels.remove('nan') # remove nan"
   ]
  },
  {
   "cell_type": "code",
   "execution_count": 10,
   "metadata": {},
   "outputs": [],
   "source": [
    "# fit and apply the model for transformation \n",
    "le.fit(np.array(labels)) \n",
    "labels_transform = le.transform(np.array(labels))"
   ]
  },
  {
   "cell_type": "code",
   "execution_count": 11,
   "metadata": {},
   "outputs": [
    {
     "data": {
      "text/plain": [
       "array(['P', 'F', 'R', 'I', 'D', 'T', 'G', 'N', 'K', 'M', 'L', 'E', 'W',\n",
       "       'Y', 'S', 'X', 'H', 'C', 'V', 'A', 'Q'], dtype='<U1')"
      ]
     },
     "execution_count": 11,
     "metadata": {},
     "output_type": "execute_result"
    }
   ],
   "source": [
    "le.inverse_transform(labels_transform) # check how inverse operation works"
   ]
  },
  {
   "cell_type": "code",
   "execution_count": 12,
   "metadata": {},
   "outputs": [
    {
     "data": {
      "text/plain": [
       "array([12,  4, 14,  7,  2, 16,  5, 11,  8, 10,  9,  3, 18, 20, 15, 19,  6,\n",
       "        1, 17,  0, 13])"
      ]
     },
     "execution_count": 12,
     "metadata": {},
     "output_type": "execute_result"
    }
   ],
   "source": [
    "labels_transform # our labels"
   ]
  },
  {
   "attachments": {},
   "cell_type": "markdown",
   "metadata": {},
   "source": [
    "Let's apply the model to the data"
   ]
  },
  {
   "cell_type": "code",
   "execution_count": 13,
   "metadata": {},
   "outputs": [],
   "source": [
    "df_labeled = df.copy() # copy initial dataset\n",
    "\n",
    "for i,label in enumerate(le.classes_):\n",
    "  df_labeled[df_labeled == label] = labels_transform[i] # apply transformation"
   ]
  },
  {
   "attachments": {},
   "cell_type": "markdown",
   "metadata": {},
   "source": [
    "Our final matrix"
   ]
  },
  {
   "cell_type": "code",
   "execution_count": 14,
   "metadata": {},
   "outputs": [
    {
     "data": {
      "text/plain": [
       "array([['10', '12', '12', ..., '11', '10', '7'],\n",
       "       ['10', '20', '12', ..., '10', '10', '7'],\n",
       "       ['11', '6', '12', ..., '10', '10', '2'],\n",
       "       ...,\n",
       "       ['nan', 'nan', 'nan', ..., '10', '10', 'nan'],\n",
       "       ['nan', '12', '12', ..., '1', '10', '3'],\n",
       "       ['10', '20', '6', ..., '10', '2', '15']], dtype='<U3')"
      ]
     },
     "execution_count": 14,
     "metadata": {},
     "output_type": "execute_result"
    }
   ],
   "source": [
    "df_labeled"
   ]
  },
  {
   "cell_type": "markdown",
   "metadata": {},
   "source": [
    "# Get mutural information matrix"
   ]
  },
  {
   "cell_type": "markdown",
   "metadata": {},
   "source": [
    "## Implement own function"
   ]
  },
  {
   "cell_type": "code",
   "execution_count": 15,
   "metadata": {
    "id": "bDioc-8pI4zV"
   },
   "outputs": [],
   "source": [
    "def mutual_information(x_col, y_col):\n",
    "    \"\"\"\n",
    "    The first mutial information function.\n",
    "    Here we calculate mutural information between\n",
    "    two columns\n",
    "\n",
    "    args:\n",
    "    x_col - first column\n",
    "    y_col - second column \n",
    "    \"\"\"\n",
    "    summation = 0.0\n",
    "    values_x = np.array(list(set(x_col))) # make arrays of unique labels\n",
    "    values_y = np.array(list(set(y_col)))\n",
    "    n = len(x_col)\n",
    "    try:\n",
    "        values_y.remove('nan') # remove all nan\n",
    "        values_x.remove('nan')\n",
    "    except:\n",
    "        pass\n",
    "\n",
    "    # Here we iterate ovel all unique labels\n",
    "    for x_i in values_x:\n",
    "        for y_j in values_y:\n",
    "            # Here we calculate function\n",
    "            px = sum(np.where(x_col == x_i,1,0)) / n\n",
    "            py = sum(np.where(y_col == y_j,1,0)) / n\n",
    "\n",
    "            first = np.where(x_col==x_i,1,0)\n",
    "            second = np.where(y_col==y_j,1,0)\n",
    "            agreg = np.array([1 if first[i] * second[i] == 1 else 0 for i in range(len(first)) ])\n",
    "            \n",
    "            pxy = sum(agreg)/n\n",
    "\n",
    "            if pxy > 0.0:\n",
    "                # accumulate function value\n",
    "                summation += pxy * np.log( pxy  / (px*py) )\n",
    "    return summation"
   ]
  },
  {
   "cell_type": "code",
   "execution_count": 16,
   "metadata": {
    "id": "TeZHnDGqk6bc"
   },
   "outputs": [],
   "source": [
    "\n",
    "\n",
    "def prob_i(column, A, N):\n",
    "    A = str(A)\n",
    "    return sum(np.where(column == A,1,0))/N\n",
    "\n",
    "def prob_joint_ij(column_i, column_j, A, B, N):\n",
    "    A = str(A)\n",
    "    B = str(B)\n",
    "    c1 = np.where(column_i == A,1,0)\n",
    "    c2 = np.where(column_j == B,1,0)\n",
    "    n_ij = 0\n",
    "    for i in range(c1.size):\n",
    "        if c1[i] == c2[i] == 1:\n",
    "            n_ij += 1\n",
    "    return n_ij/N\n",
    "\n",
    "def mutual_info(column_i, column_j, labels, N = None):\n",
    "    \"\"\"\n",
    "    The first mutial information function.\n",
    "    Here we calculate mutural information between\n",
    "    two columns\n",
    "\n",
    "    args:\n",
    "    column_i - first column\n",
    "    column_j - second column \n",
    "    labels - list of all labels\n",
    "    N - length of columns\n",
    "    \"\"\"\n",
    "\n",
    "    N = len(column_i) # calculate length\n",
    "    mutual_info = 0\n",
    "    # iterate ovel all labels combinations\n",
    "    for i in labels:\n",
    "        for j in labels:\n",
    "            # Calculate different part of the function\n",
    "            p_i = prob_i(column_i, i, N)\n",
    "            p_j = prob_i(column_j, j, N)\n",
    "            R_ij = prob_joint_ij(column_i, column_j, i, j, N)\n",
    "            if (R_ij > 0 and p_i > 0 and p_j > 0):\n",
    "                # accumulate function value\n",
    "                mutual_info += R_ij*np.log( R_ij / (p_i * p_j))\n",
    "    return mutual_info\n",
    "\n",
    "def mutual_info_new(mi_matrix):\n",
    "    \"\"\"\n",
    "    Update mutural information function\n",
    "    \"\"\"\n",
    "    n = mi_matrix.shape[1]\n",
    "    new_mi_matrix = np.zeros((n,n))\n",
    "    for i in range(n):\n",
    "        for j in range(n):\n",
    "            for k in range(n):\n",
    "                s = mi_matrix[k, j] + mi_matrix[i, k]\n",
    "            new_mi_matrix[i, j] = mi_matrix[i, j] - 1/n * s\n",
    "    return new_mi_matrix"
   ]
  },
  {
   "cell_type": "markdown",
   "metadata": {},
   "source": [
    "## Creating mutural information matrix"
   ]
  },
  {
   "cell_type": "code",
   "execution_count": 17,
   "metadata": {},
   "outputs": [],
   "source": [
    "n = df.shape[1]\n",
    "# Create mutural information matrixes\n",
    "sk_mut_matrix = np.zeros((n,n))\n",
    "own_mut_matrix = np.zeros((n,n))\n",
    "own_mut_matrix_2 = np.zeros((n,n))"
   ]
  },
  {
   "cell_type": "code",
   "execution_count": 18,
   "metadata": {
    "id": "2Qrj2s-obbIa"
   },
   "outputs": [],
   "source": [
    "# Calculate mutural information matrixes\n",
    "for i in range(n):\n",
    "    for j in range(n):\n",
    "        sk_mut_matrix[i,j] = normalized_mutual_info_score(df_labeled[i],df_labeled[j])\n",
    "        own_mut_matrix[i,j] = mutual_information(df_labeled[i],df_labeled[j])\n",
    "        own_mut_matrix_2[i,j] = mutual_info(df_labeled[i],df_labeled[j], labels_transform)\n"
   ]
  },
  {
   "attachments": {},
   "cell_type": "markdown",
   "metadata": {},
   "source": [
    "## Plot heatmaps and contact maps"
   ]
  },
  {
   "cell_type": "markdown",
   "metadata": {},
   "source": [
    "Plot heatmaps for from our functions"
   ]
  },
  {
   "cell_type": "code",
   "execution_count": 19,
   "metadata": {},
   "outputs": [
    {
     "data": {
      "image/png": "[encoded data removed]",
      "text/plain": [
       "<Figure size 800x800 with 2 Axes>"
      ]
     },
     "metadata": {},
     "output_type": "display_data"
    }
   ],
   "source": [
    "fig, ax = plt.subplots(1,2, figsize=(8,8))\n",
    "\n",
    "ax[0].imshow(own_mut_matrix, interpolation='nearest',)\n",
    "ax[1].imshow(own_mut_matrix_2, interpolation='nearest')\n",
    "\n",
    "ax[0].title.set_text('Our own mutural information matrix #1')\n",
    "ax[1].title.set_text('Our own mutural information matrix #2')\n",
    "\n",
    "ax[0].invert_yaxis()\n",
    "ax[1].invert_yaxis()\n",
    "\n",
    "fig.suptitle(\"Heat maps\", fontsize=12)\n",
    "fig.tight_layout()\n",
    "fig.subplots_adjust(top=1.4)\n",
    "plt.show()"
   ]
  },
  {
   "cell_type": "markdown",
   "metadata": {},
   "source": [
    "Plot contact map from our mutural information matrix"
   ]
  },
  {
   "cell_type": "code",
   "execution_count": 20,
   "metadata": {},
   "outputs": [
    {
     "data": {
      "image/png": "[encoded data removed]",
      "text/plain": [
       "<Figure size 800x800 with 2 Axes>"
      ]
     },
     "metadata": {},
     "output_type": "display_data"
    }
   ],
   "source": [
    "fig, ax = plt.subplots(1,2, figsize=(8,8))\n",
    "tau = 1.88\n",
    "\n",
    "ax[0].imshow((own_mut_matrix > tau).astype(int), cmap='hot', interpolation='nearest')\n",
    "ax[1].imshow((own_mut_matrix_2 > tau).astype(int), cmap='hot', interpolation='nearest')\n",
    "\n",
    "ax[0].title.set_text('Our owncontact matrix #1')\n",
    "ax[1].title.set_text('Our own contact matrix #2')\n",
    "\n",
    "ax[0].invert_yaxis()\n",
    "ax[1].invert_yaxis()\n",
    "\n",
    "fig.suptitle(\"Contact maps\", fontsize=12)\n",
    "fig.tight_layout()\n",
    "fig.subplots_adjust(top=1.4)\n",
    "plt.show()"
   ]
  },
  {
   "cell_type": "markdown",
   "metadata": {},
   "source": [
    "Let's compare mutural information matrix from our function and sklearn"
   ]
  },
  {
   "cell_type": "code",
   "execution_count": 21,
   "metadata": {},
   "outputs": [
    {
     "data": {
      "image/png": "[encoded data removed]",
      "text/plain": [
       "<Figure size 1200x1200 with 3 Axes>"
      ]
     },
     "metadata": {},
     "output_type": "display_data"
    }
   ],
   "source": [
    "fig, ax = plt.subplots(1,3, figsize=(12,12))\n",
    "\n",
    "ax[0].imshow(sk_mut_matrix, interpolation='nearest')\n",
    "ax[1].imshow(own_mut_matrix, interpolation='nearest')\n",
    "ax[2].imshow(own_mut_matrix, interpolation='nearest')\n",
    "\n",
    "ax[0].invert_yaxis()\n",
    "ax[1].invert_yaxis()\n",
    "ax[2].invert_yaxis()\n",
    "\n",
    "ax[0].set_title('Sklearn function')\n",
    "ax[1].set_title('First function')\n",
    "ax[2].set_title('Second function')\n",
    "\n",
    "plt.show()"
   ]
  },
  {
   "cell_type": "markdown",
   "metadata": {},
   "source": [
    "We can see that results these matrix are the same. But we will use sklearn function because of normalization"
   ]
  },
  {
   "cell_type": "markdown",
   "metadata": {},
   "source": [
    "# Getting contact map from tetR.pad"
   ]
  },
  {
   "attachments": {},
   "cell_type": "markdown",
   "metadata": {},
   "source": [
    "## Getting contact map from tetR.pad using mdtraj"
   ]
  },
  {
   "cell_type": "code",
   "execution_count": null,
   "metadata": {},
   "outputs": [],
   "source": [
    "import mdtraj as md\n",
    "from contact_map import ContactMap, ContactFrequency, ContactDifference"
   ]
  },
  {
   "cell_type": "code",
   "execution_count": null,
   "metadata": {},
   "outputs": [],
   "source": [
    "traj = md.load('data/tetR.pdb')\n",
    "frame_contacts = ContactFrequency(traj[0])\n",
    "matrix_mdtraj = frame_contacts.residue_contacts.df.fillna(0)"
   ]
  },
  {
   "cell_type": "code",
   "execution_count": null,
   "metadata": {},
   "outputs": [
    {
     "data": {
      "image/png": "[encoded data removed]",
      "text/plain": [
       "<Figure size 432x288 with 1 Axes>"
      ]
     },
     "metadata": {},
     "output_type": "display_data"
    }
   ],
   "source": [
    "plt.imshow(matrix_mdtraj, cmap='hot', interpolation='nearest')\n",
    "plt.gca().invert_yaxis()\n",
    "plt.show()"
   ]
  },
  {
   "cell_type": "markdown",
   "metadata": {},
   "source": [
    "# Getting contact map from tetR.pad using own functions"
   ]
  },
  {
   "cell_type": "code",
   "execution_count": 32,
   "metadata": {},
   "outputs": [
    {
     "name": "stderr",
     "output_type": "stream",
     "text": [
      "c:\\Users\\Dmitry\\AppData\\Local\\Programs\\Python\\Python310\\lib\\site-packages\\Bio\\PDB\\PDBParser.py:395: PDBConstructionWarning: Ignoring unrecognized record 'END' at line 709\n",
      "  warnings.warn(\n"
     ]
    }
   ],
   "source": [
    "from Bio.PDB import PDBParser\n",
    "from Bio.PDB import PDBIO\n",
    "\n",
    "# Parse and get basic information\n",
    "parser=PDBParser()\n",
    "protein_1p49 = parser.get_structure('tetR', './prot-struct-pred-master/data/tetR.pdb')\n",
    "protein_1p49_resolution = protein_1p49.header[\"resolution\"]\n",
    "#initialize IO \n",
    "io=PDBIO()\n",
    "\n",
    "#custom select class\n",
    "class Select():\n",
    "    def accept_model(self, model):\n",
    "        return True\n",
    "    def accept_chain(self, chain):\n",
    "        return True\n",
    "    def accept_residue(self, residue):\n",
    "        return True       \n",
    "    def accept_atom(self, atom):\n",
    "        if atom.get_name() == 'CA':  \n",
    "            return True\n",
    "        else:\n",
    "            return False\n",
    "\n",
    "#write to output file\n",
    "io.set_structure(protein_1p49)\n",
    "io.save(\"data.pdb\", Select())"
   ]
  },
  {
   "cell_type": "code",
   "execution_count": 33,
   "metadata": {},
   "outputs": [],
   "source": [
    "# Get coordinate from pdb dase\n",
    "p = PDBParser()\n",
    "coord = []\n",
    "s = p.get_structure(\"data\", 'data.pdb')\n",
    "for chains in s:\n",
    "    for chain in chains:\n",
    "        for residue in chain:                             \n",
    "            for atom in residue:\n",
    "                coord.append([atom.get_vector()[0],atom.get_vector()[1],atom.get_vector()[2]])\n",
    "data = np.array(coord)"
   ]
  },
  {
   "cell_type": "markdown",
   "metadata": {},
   "source": [
    "Function for distance calculating"
   ]
  },
  {
   "cell_type": "code",
   "execution_count": 34,
   "metadata": {},
   "outputs": [],
   "source": [
    "from scipy.spatial import distance\n",
    "\n",
    "def euclidian(a,b):\n",
    "    return distance.euclidean(a,b)"
   ]
  },
  {
   "cell_type": "markdown",
   "metadata": {},
   "source": [
    "Calculate distance"
   ]
  },
  {
   "cell_type": "code",
   "execution_count": 35,
   "metadata": {},
   "outputs": [],
   "source": [
    "matrix_euclidian = np.zeros((44,44))\n",
    "\n",
    "for i in range(44):\n",
    "    for j in range(44):\n",
    "        matrix_euclidian[i][j] = euclidian(data[i],data[j])"
   ]
  },
  {
   "cell_type": "markdown",
   "metadata": {},
   "source": [
    "Use threshold for our initial structure"
   ]
  },
  {
   "cell_type": "code",
   "execution_count": 36,
   "metadata": {},
   "outputs": [],
   "source": [
    "matrix_euclidian_filt = (matrix_euclidian<9).astype(int)"
   ]
  },
  {
   "cell_type": "code",
   "execution_count": 37,
   "metadata": {},
   "outputs": [
    {
     "data": {
      "image/png": "[encoded data removed]",
      "text/plain": [
       "<Figure size 400x400 with 1 Axes>"
      ]
     },
     "metadata": {},
     "output_type": "display_data"
    }
   ],
   "source": [
    "plt.figure(figsize = (4,4))\n",
    "plt.imshow(matrix_euclidian_filt, cmap='hot', interpolation='nearest')\n",
    "plt.gca().invert_yaxis()\n",
    "plt.title(\"Euclidian distance\")\n",
    "plt.show()"
   ]
  },
  {
   "cell_type": "markdown",
   "metadata": {},
   "source": [
    "We will use matrix that was computed with Euclidian distance. "
   ]
  },
  {
   "cell_type": "markdown",
   "metadata": {},
   "source": [
    "# Threshold choice"
   ]
  },
  {
   "attachments": {},
   "cell_type": "markdown",
   "metadata": {},
   "source": [
    "Let's find the range that we will use to find our threshold"
   ]
  },
  {
   "cell_type": "code",
   "execution_count": 38,
   "metadata": {},
   "outputs": [
    {
     "data": {
      "text/plain": [
       "(0.5560836463835503, 1.0000000000000004)"
      ]
     },
     "execution_count": 38,
     "metadata": {},
     "output_type": "execute_result"
    }
   ],
   "source": [
    "sk_mut_matrix.min(), sk_mut_matrix.max()"
   ]
  },
  {
   "cell_type": "code",
   "execution_count": 39,
   "metadata": {},
   "outputs": [
    {
     "data": {
      "image/png": "[encoded data removed]",
      "text/plain": [
       "<Figure size 1200x1200 with 7 Axes>"
      ]
     },
     "metadata": {},
     "output_type": "display_data"
    }
   ],
   "source": [
    "thrs = np.linspace(0.55, 0.95, 6)\n",
    "\n",
    "fig, ax = plt.subplots(1, 7, figsize=(12,12))\n",
    "\n",
    "ax[0].imshow(matrix_euclidian_filt, cmap='hot', interpolation='nearest')\n",
    "ax[0].invert_yaxis()\n",
    "ax[0].set_title(\"matrix_euclidian\")\n",
    "\n",
    "for i, thr in enumerate(thrs):\n",
    "    ax[i+1].imshow((sk_mut_matrix > thr).astype(int), cmap='hot', interpolation='nearest')\n",
    "    ax[i+1].invert_yaxis()\n",
    "    ax[i+1].set_title(f'$\\tau$ = {thr}')"
   ]
  },
  {
   "cell_type": "code",
   "execution_count": 40,
   "metadata": {},
   "outputs": [
    {
     "data": {
      "image/png": "[encoded data removed]",
      "text/plain": [
       "<Figure size 1200x1200 with 6 Axes>"
      ]
     },
     "metadata": {},
     "output_type": "display_data"
    }
   ],
   "source": [
    "thrs = np.linspace(0.71, 0.79, 5)\n",
    "\n",
    "fig, ax = plt.subplots(1, 6, figsize=(12,12))\n",
    "\n",
    "ax[0].imshow(matrix_euclidian_filt, cmap='hot', interpolation='nearest')\n",
    "ax[0].invert_yaxis()\n",
    "ax[0].set_title(\"matrix_euclidian\")\n",
    "\n",
    "for i, thr in enumerate(thrs):\n",
    "    ax[i+1].imshow((sk_mut_matrix > thr).astype(int), cmap='hot', interpolation='nearest')\n",
    "    ax[i+1].invert_yaxis()\n",
    "    ax[i+1].set_title(f'$\\tau$ = {thr}')"
   ]
  },
  {
   "cell_type": "markdown",
   "metadata": {},
   "source": [
    "We will use threshhold = 0.73"
   ]
  },
  {
   "cell_type": "markdown",
   "metadata": {},
   "source": [
    "# Return final map"
   ]
  },
  {
   "cell_type": "code",
   "execution_count": 41,
   "metadata": {},
   "outputs": [],
   "source": [
    "def get_res_matrix(matrix, thr):\n",
    "    final_file = []\n",
    "    for x in matrix:\n",
    "        final_file += list(x.astype(int))\n",
    "    final_file.insert(0, matrix.shape[0])\n",
    "    with open(f\"final_map_{thr}.cmap\", 'w') as f:\n",
    "        for x in final_file:\n",
    "            f.write(str(x)+'\\n')"
   ]
  },
  {
   "cell_type": "code",
   "execution_count": 42,
   "metadata": {},
   "outputs": [],
   "source": [
    "thr = 0.73\n",
    "get_res_matrix((sk_mut_matrix > thr).astype(int), thr)"
   ]
  }
 ],
 "metadata": {
  "kernelspec": {
   "display_name": "Python 3",
   "language": "python",
   "name": "python3"
  },
  "language_info": {
   "codemirror_mode": {
    "name": "ipython",
    "version": 3
   },
   "file_extension": ".py",
   "mimetype": "text/x-python",
   "name": "python",
   "nbconvert_exporter": "python",
   "pygments_lexer": "ipython3",
   "version": "3.10.6"
  },
  "orig_nbformat": 4,
  "vscode": {
   "interpreter": {
    "hash": "8afc17b6bf09b5dcedf375ab839979310db8e0423fa981b4ca59190d26c73a8e"
   }
  }
 },
 "nbformat": 4,
 "nbformat_minor": 2
}
